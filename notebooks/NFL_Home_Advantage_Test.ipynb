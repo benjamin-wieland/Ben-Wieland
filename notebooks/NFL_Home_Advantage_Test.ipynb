{
 "cells": [
  {
   "cell_type": "code",
   "execution_count": 98,
   "metadata": {},
   "outputs": [],
   "source": [
    "import numpy as np # type: ignore\n",
    "import random # type: ignore\n",
    "import pandas as pd # type: ignore\n",
    "import seaborn as sns # type: ignore\n",
    "import matplotlib.pyplot as plt # type: ignore"
   ]
  },
  {
   "cell_type": "code",
   "execution_count": 74,
   "metadata": {},
   "outputs": [
    {
     "data": {
      "text/html": [
       "<div>\n",
       "<style scoped>\n",
       "    .dataframe tbody tr th:only-of-type {\n",
       "        vertical-align: middle;\n",
       "    }\n",
       "\n",
       "    .dataframe tbody tr th {\n",
       "        vertical-align: top;\n",
       "    }\n",
       "\n",
       "    .dataframe thead th {\n",
       "        text-align: right;\n",
       "    }\n",
       "</style>\n",
       "<table border=\"1\" class=\"dataframe\">\n",
       "  <thead>\n",
       "    <tr style=\"text-align: right;\">\n",
       "      <th></th>\n",
       "      <th>gameId</th>\n",
       "      <th>season</th>\n",
       "      <th>week</th>\n",
       "      <th>gameDate</th>\n",
       "      <th>gameTimeEastern</th>\n",
       "      <th>homeTeamAbbr</th>\n",
       "      <th>visitorTeamAbbr</th>\n",
       "      <th>homeFinalScore</th>\n",
       "      <th>visitorFinalScore</th>\n",
       "    </tr>\n",
       "  </thead>\n",
       "  <tbody>\n",
       "    <tr>\n",
       "      <th>0</th>\n",
       "      <td>2022090800</td>\n",
       "      <td>2022</td>\n",
       "      <td>1</td>\n",
       "      <td>9/8/2022</td>\n",
       "      <td>20:20:00</td>\n",
       "      <td>LA</td>\n",
       "      <td>BUF</td>\n",
       "      <td>10</td>\n",
       "      <td>31</td>\n",
       "    </tr>\n",
       "    <tr>\n",
       "      <th>1</th>\n",
       "      <td>2022091100</td>\n",
       "      <td>2022</td>\n",
       "      <td>1</td>\n",
       "      <td>9/11/2022</td>\n",
       "      <td>13:00:00</td>\n",
       "      <td>ATL</td>\n",
       "      <td>NO</td>\n",
       "      <td>26</td>\n",
       "      <td>27</td>\n",
       "    </tr>\n",
       "    <tr>\n",
       "      <th>2</th>\n",
       "      <td>2022091101</td>\n",
       "      <td>2022</td>\n",
       "      <td>1</td>\n",
       "      <td>9/11/2022</td>\n",
       "      <td>13:00:00</td>\n",
       "      <td>CAR</td>\n",
       "      <td>CLE</td>\n",
       "      <td>24</td>\n",
       "      <td>26</td>\n",
       "    </tr>\n",
       "    <tr>\n",
       "      <th>3</th>\n",
       "      <td>2022091102</td>\n",
       "      <td>2022</td>\n",
       "      <td>1</td>\n",
       "      <td>9/11/2022</td>\n",
       "      <td>13:00:00</td>\n",
       "      <td>CHI</td>\n",
       "      <td>SF</td>\n",
       "      <td>19</td>\n",
       "      <td>10</td>\n",
       "    </tr>\n",
       "    <tr>\n",
       "      <th>4</th>\n",
       "      <td>2022091103</td>\n",
       "      <td>2022</td>\n",
       "      <td>1</td>\n",
       "      <td>9/11/2022</td>\n",
       "      <td>13:00:00</td>\n",
       "      <td>CIN</td>\n",
       "      <td>PIT</td>\n",
       "      <td>20</td>\n",
       "      <td>23</td>\n",
       "    </tr>\n",
       "  </tbody>\n",
       "</table>\n",
       "</div>"
      ],
      "text/plain": [
       "       gameId  season  week   gameDate gameTimeEastern homeTeamAbbr  \\\n",
       "0  2022090800    2022     1   9/8/2022        20:20:00           LA   \n",
       "1  2022091100    2022     1  9/11/2022        13:00:00          ATL   \n",
       "2  2022091101    2022     1  9/11/2022        13:00:00          CAR   \n",
       "3  2022091102    2022     1  9/11/2022        13:00:00          CHI   \n",
       "4  2022091103    2022     1  9/11/2022        13:00:00          CIN   \n",
       "\n",
       "  visitorTeamAbbr  homeFinalScore  visitorFinalScore  \n",
       "0             BUF              10                 31  \n",
       "1              NO              26                 27  \n",
       "2             CLE              24                 26  \n",
       "3              SF              19                 10  \n",
       "4             PIT              20                 23  "
      ]
     },
     "execution_count": 74,
     "metadata": {},
     "output_type": "execute_result"
    }
   ],
   "source": [
    "games = pd.read_csv(\"games.csv\")\n",
    "\n",
    "games.head()"
   ]
  },
  {
   "cell_type": "code",
   "execution_count": 75,
   "metadata": {},
   "outputs": [
    {
     "name": "stdout",
     "output_type": "stream",
     "text": [
      "             gameId  season        week  homeFinalScore  visitorFinalScore\n",
      "count  1.360000e+02   136.0  136.000000      136.000000         136.000000\n",
      "mean   2.022099e+09  2022.0    4.845588       22.669118          20.948529\n",
      "std    5.996614e+03     0.0    2.567254        8.659874           9.731446\n",
      "min    2.022091e+09  2022.0    1.000000        3.000000           0.000000\n",
      "25%    2.022093e+09  2022.0    3.000000       17.000000          14.750000\n",
      "50%    2.022101e+09  2022.0    5.000000       22.500000          20.000000\n",
      "75%    2.022102e+09  2022.0    7.000000       27.000000          27.000000\n",
      "max    2.022111e+09  2022.0    9.000000       49.000000          48.000000\n"
     ]
    }
   ],
   "source": [
    "print(games.describe())"
   ]
  },
  {
   "cell_type": "code",
   "execution_count": 76,
   "metadata": {},
   "outputs": [
    {
     "name": "stdout",
     "output_type": "stream",
     "text": [
      "homeTeamAbbr  gameId      season  week  gameDate    gameTimeEastern  visitorTeamAbbr  homeFinalScore  visitorFinalScore\n",
      "ARI           2022091110  2022    1     9/11/2022   16:25:00         KC               21              44                   1\n",
      "              2022092510  2022    3     9/25/2022   16:25:00         LA               12              20                   1\n",
      "              2022100911  2022    5     10/9/2022   16:25:00         PHI              17              20                   1\n",
      "              2022102000  2022    7     10/20/2022  20:15:00         NO               42              34                   1\n",
      "              2022110608  2022    9     11/6/2022   16:05:00         SEA              21              31                   1\n",
      "                                                                                                                          ..\n",
      "WAS           2022091109  2022    1     9/11/2022   13:00:00         JAX              28              22                   1\n",
      "              2022092508  2022    3     9/25/2022   13:00:00         PHI              8               24                   1\n",
      "              2022100909  2022    5     10/9/2022   13:00:00         TEN              17              21                   1\n",
      "              2022102306  2022    7     10/23/2022  13:00:00         GB               23              21                   1\n",
      "              2022110607  2022    9     11/6/2022   13:00:00         MIN              17              20                   1\n",
      "Name: count, Length: 136, dtype: int64\n"
     ]
    }
   ],
   "source": [
    "games_by_home = games.groupby([\"homeTeamAbbr\"]).value_counts()\n",
    "print(games_by_home)"
   ]
  },
  {
   "cell_type": "code",
   "execution_count": 77,
   "metadata": {},
   "outputs": [
    {
     "name": "stdout",
     "output_type": "stream",
     "text": [
      "    homeTeamAbbr  homeFinalScore\n",
      "0             LA              10\n",
      "1            ATL              26\n",
      "2            CAR              24\n",
      "3            CHI              19\n",
      "4            CIN              20\n",
      "..           ...             ...\n",
      "131          WAS              17\n",
      "132          ARI              21\n",
      "133           TB              16\n",
      "134           KC              20\n",
      "135           NO              13\n",
      "\n",
      "[136 rows x 2 columns] \n",
      "     visitorTeamAbbr  visitorFinalScore\n",
      "0               BUF                 31\n",
      "1                NO                 27\n",
      "2               CLE                 26\n",
      "3                SF                 10\n",
      "4               PIT                 23\n",
      "..              ...                ...\n",
      "131             MIN                 20\n",
      "132             SEA                 31\n",
      "133              LA                 13\n",
      "134             TEN                 17\n",
      "135             BAL                 27\n",
      "\n",
      "[136 rows x 2 columns]\n"
     ]
    }
   ],
   "source": [
    "games_home = games[[\"homeTeamAbbr\", \"homeFinalScore\"]]\n",
    "\n",
    "games_vis = games[[\"visitorTeamAbbr\", \"visitorFinalScore\"]]\n",
    "\n",
    "print(games_home, '\\n' ,games_vis)\n"
   ]
  },
  {
   "cell_type": "code",
   "execution_count": 78,
   "metadata": {},
   "outputs": [
    {
     "name": "stdout",
     "output_type": "stream",
     "text": [
      "73\n",
      "0.5367647058823529\n"
     ]
    }
   ],
   "source": [
    "games_diff = games_home[\"homeFinalScore\"] - games_vis[\"visitorFinalScore\"]\n",
    "games_won_home = np.count_nonzero(games_diff > 0)\n",
    "print(games_won_home)\n",
    "games_won_home_prop = games_won_home/games_diff.shape[0]\n",
    "\n",
    "print(games_won_home_prop)"
   ]
  },
  {
   "cell_type": "code",
   "execution_count": 100,
   "metadata": {},
   "outputs": [
    {
     "data": {
      "text/plain": [
       "0.53"
      ]
     },
     "execution_count": 100,
     "metadata": {},
     "output_type": "execute_result"
    }
   ],
   "source": [
    "def simulation():\n",
    "    prop = np.random.binomial(100, .5, 1)\n",
    "    return float(sum(prop) /100)\n",
    "simulation()"
   ]
  },
  {
   "cell_type": "code",
   "execution_count": 106,
   "metadata": {},
   "outputs": [
    {
     "name": "stdout",
     "output_type": "stream",
     "text": [
      "[0.5  0.47 0.56 ... 0.53 0.56 0.57]\n"
     ]
    },
    {
     "data": {
      "text/plain": [
       "0.2515"
      ]
     },
     "execution_count": 106,
     "metadata": {},
     "output_type": "execute_result"
    },
    {
     "data": {
      "image/png": "[encoded data removed]",
      "text/plain": [
       "<Figure size 640x480 with 1 Axes>"
      ]
     },
     "metadata": {},
     "output_type": "display_data"
    }
   ],
   "source": [
    "repititions = 10000\n",
    "\n",
    "sim = []\n",
    "for i in np.arange(repititions):\n",
    "    sim = np.append(sim, simulation())\n",
    "\n",
    "sns.histplot(sim)\n",
    "plt.axvline(x=games_won_home_prop, color=\"red\", linestyle= \"--\", label=\"P-Value Threshold\")\n",
    "plt.legend()\n",
    "plt.title(\"Probability of Winning\")\n",
    "print(sim)\n",
    "p_value = np.count_nonzero(sim >= games_won_home_prop)/10000\n",
    "p_value"
   ]
  },
  {
   "cell_type": "markdown",
   "metadata": {},
   "source": [
    "With a p-value of above .2 we cannot conclude that NFL teams that play at home are more likely to win than playing away."
   ]
  }
 ],
 "metadata": {
  "kernelspec": {
   "display_name": "Python 3",
   "language": "python",
   "name": "python3"
  },
  "language_info": {
   "codemirror_mode": {
    "name": "ipython",
    "version": 3
   },
   "file_extension": ".py",
   "mimetype": "text/x-python",
   "name": "python",
   "nbconvert_exporter": "python",
   "pygments_lexer": "ipython3",
   "version": "3.12.5"
  }
 },
 "nbformat": 4,
 "nbformat_minor": 2
}
